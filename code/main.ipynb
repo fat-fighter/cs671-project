{
 "cells": [
  {
   "cell_type": "code",
   "execution_count": 1,
   "metadata": {},
   "outputs": [],
   "source": [
    "import os\n",
    "import numpy as np\n",
    "\n",
    "from includes import config\n",
    "from includes.utils import squad_dataset\n",
    "\n",
    "import tensorflow as tf"
   ]
  },
  {
   "cell_type": "code",
   "execution_count": 2,
   "metadata": {},
   "outputs": [],
   "source": [
    "def load_vocab(vocab_path):\n",
    "    if os.path.exists(vocab_path):\n",
    "        \n",
    "        with open(vocab_path, mode=\"rb\") as f:\n",
    "            vocab = dict([\n",
    "                (line.strip(), index)\n",
    "                for index, line in enumerate(f.readlines())\n",
    "            ])\n",
    "        \n",
    "        return vocab\n",
    "    \n",
    "    else:\n",
    "        raise IOError(\"File %s not found.\", vocab_path)"
   ]
  },
  {
   "cell_type": "code",
   "execution_count": 3,
   "metadata": {},
   "outputs": [],
   "source": [
    "root_dir = os.getcwd()"
   ]
  },
  {
   "cell_type": "code",
   "execution_count": 4,
   "metadata": {},
   "outputs": [],
   "source": [
    "train_data = squad_dataset(config.question_train, config.context_train, config.answer_train, root=root_dir)"
   ]
  },
  {
   "cell_type": "code",
   "execution_count": 5,
   "metadata": {},
   "outputs": [],
   "source": [
    "LSTMCell = tf.contrib.rnn.BasicLSTMCell\n",
    "DynamicRNN = tf.nn.dynamic_rnn"
   ]
  },
  {
   "cell_type": "code",
   "execution_count": 6,
   "metadata": {},
   "outputs": [],
   "source": [
    "class Encoder:\n",
    "    def __init__(self, hidden_size):\n",
    "        self.hidden_size = hidden_size\n",
    "        \n",
    "    def encode(self, input, lengths):\n",
    "        question, passage = input\n",
    "        question_lengths, passage_lengths = lengths\n",
    "        \n",
    "        lstm_cell_question = tf.contrib.rnn.BasicLSTMCell(self.hidden_size, state_is_tuple=True)\n",
    "        encoded_question, (q_rep, _) = DynamicRNN(\n",
    "            lstm_cell_question,\n",
    "            question,\n",
    "            question_lengths,\n",
    "            dtype=tf.float32\n",
    "        )\n",
    "\n",
    "        lstm_cell_passage = tf.contrib.rnn.BasicLSTMCell(self.hidden_size, state_is_tuple=True)\n",
    "        encoded_passage, (p_rep, _) =  tf.nn.dynamic_rnn(\n",
    "            lstm_cell_question,\n",
    "            question,\n",
    "            question_lengths,\n",
    "            dtype=tf.float32\n",
    "        )\n",
    "            \n",
    "        return encoded_question, q_rep, encoded_passage, p_rep"
   ]
  },
  {
   "cell_type": "code",
   "execution_count": 7,
   "metadata": {},
   "outputs": [],
   "source": [
    "class Graph():\n",
    "    def __init__(self):\n",
    "        self.__init_nodes()\n",
    "    \n",
    "    def __init_nodes(self):\n",
    "        self.encoder = Encoder(5)\n",
    "        \n",
    "        self.questions = tf.placeholder(tf.float32, [None, None, 10])\n",
    "        self.passages = tf.placeholder(tf.float32, [None, None, 10])\n",
    "        \n",
    "        self.questions_length = tf.placeholder(tf.float32, [None])\n",
    "        self.passages_length = tf.placeholder(tf.float32, [None])\n",
    "        \n",
    "        self.encoded_questions, \\\n",
    "        self.rep_questions, \\\n",
    "        self.encoded_passages, \\\n",
    "        self.rep_passages = self.encoder.encode(\n",
    "            (self.questions, self.passages),\n",
    "            (self.questions_length, self.passages_length)\n",
    "        )\n",
    "        \n",
    "    def train(self):\n",
    "        with tf.Session() as sess:\n",
    "            tf.global_variables_initializer().run(session=sess)\n",
    "            \n",
    "            out = sess.run(\n",
    "                [self.rep_questions, self.rep_passages],\n",
    "                feed_dict={\n",
    "                    self.questions: np.random.rand(5 * 10).reshape((1, 5, 10)).astype(dtype=np.float32),\n",
    "                    self.passages: np.random.rand(5 * 10).reshape((1, 5, 10)).astype(dtype=np.float32),\n",
    "                    self.questions_length: [5],\n",
    "                    self.passages_length: [5]\n",
    "                }\n",
    "            )\n",
    "        print out"
   ]
  },
  {
   "cell_type": "code",
   "execution_count": 8,
   "metadata": {
    "scrolled": true
   },
   "outputs": [
    {
     "name": "stdout",
     "output_type": "stream",
     "text": [
      "[array([[ 0.03206288,  0.27108854, -0.8568663 , -0.5719821 ,  0.25359595]],\n",
      "      dtype=float32), array([[ 0.03206288,  0.27108854, -0.8568663 , -0.5719821 ,  0.25359595]],\n",
      "      dtype=float32)]\n"
     ]
    }
   ],
   "source": [
    "graph = Graph()\n",
    "graph.train()"
   ]
  }
 ],
 "metadata": {
  "kernelspec": {
   "display_name": "Python2 (Machine Learning)",
   "language": "python",
   "name": "ml"
  },
  "language_info": {
   "codemirror_mode": {
    "name": "ipython",
    "version": 2
   },
   "file_extension": ".py",
   "mimetype": "text/x-python",
   "name": "python",
   "nbconvert_exporter": "python",
   "pygments_lexer": "ipython2",
   "version": "2.7.14"
  }
 },
 "nbformat": 4,
 "nbformat_minor": 2
}

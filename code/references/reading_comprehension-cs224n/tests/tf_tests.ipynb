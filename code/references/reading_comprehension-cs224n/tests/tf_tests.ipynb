{
 "cells": [
  {
   "cell_type": "code",
   "execution_count": 1,
   "metadata": {},
   "outputs": [],
   "source": [
    "import tensorflow as tf\n",
    "import numpy as np"
   ]
  },
  {
   "cell_type": "code",
   "execution_count": 4,
   "metadata": {},
   "outputs": [
    {
     "name": "stdout",
     "output_type": "stream",
     "text": [
      "[[ 4.  8.]\n",
      " [ 4.  8.]]\n"
     ]
    }
   ],
   "source": [
    "# feed in pure list.\n",
    "def test01():\n",
    "    a = tf.placeholder(tf.float32, (2, 2))\n",
    "    # w = tf.Variable(tf.ones((2,2)))\n",
    "    w = tf.Variable([[1,2],[1,2]], dtype=tf.float32)\n",
    "    m = tf.matmul(a, w)\n",
    "    init = tf.global_variables_initializer()\n",
    "    sess = tf.Session()\n",
    "    sess.run(init)\n",
    "    print(sess.run(m, feed_dict={a:[[2,2],[2,2]]}))\n",
    "\n",
    "test01()"
   ]
  },
  {
   "cell_type": "code",
   "execution_count": 6,
   "metadata": {},
   "outputs": [
    {
     "name": "stdout",
     "output_type": "stream",
     "text": [
      "(2, 2)\n"
     ]
    }
   ],
   "source": [
    "# return of tensor.shape is tuple, not list.\n",
    "def test02():\n",
    "    a = tf.ones((2,2))\n",
    "    sess = tf.Session()\n",
    "    out_a = sess.run(a)\n",
    "    print(out_a.shape)\n",
    "    assert isinstance(out_a.shape, tuple), 'wrong type'\n",
    "    assert (2,2) == out_a.shape, 'the shape should be equal.'\n",
    "    \n",
    "test02()"
   ]
  },
  {
   "cell_type": "code",
   "execution_count": 21,
   "metadata": {},
   "outputs": [
    {
     "name": "stdout",
     "output_type": "stream",
     "text": [
      "[[ 2.  2.  2.  2.  3.  3.  3.  3.  1.  1.  1.  1.]\n",
      " [ 2.  2.  2.  2.  3.  3.  3.  3.  1.  1.  1.  1.]\n",
      " [ 2.  2.  2.  2.  3.  3.  3.  3.  1.  1.  1.  1.]]\n"
     ]
    }
   ],
   "source": [
    "# cast a tensor.shape dimension to tf.int32 for using it in tf.tile\n",
    "# or just use tf.shpae()\n",
    "def test03():\n",
    "    a = tf.ones((3, 4), dtype=tf.float32)\n",
    "    c = tf.constant([[2,2,2,2],[3,3,3,3]], dtype=tf.float32)\n",
    "    d = tf.reshape(c, [-1])\n",
    "    batch_size = tf.cast(a.shape[0], tf.int32)\n",
    "    e = tf.tile(d, [batch_size])\n",
    "    h = tf.reshape(e, (batch_size, -1))\n",
    "    h1 = tf.concat([h, a], axis=1)\n",
    "    sess = tf.Session()\n",
    "    print(sess.run(h1))\n",
    "\n",
    "test03()\n",
    "    "
   ]
  },
  {
   "cell_type": "code",
   "execution_count": 26,
   "metadata": {},
   "outputs": [
    {
     "name": "stdout",
     "output_type": "stream",
     "text": [
      "2\n"
     ]
    }
   ],
   "source": [
    "def test04():\n",
    "    a = tf.placeholder(tf.int32, (None, 2))\n",
    "#     b = tf.cast(tf.shape(a)[0], tf.int32)\n",
    "    b = tf.shape(a)[0]\n",
    "    sess = tf.Session()\n",
    "    print(sess.run(b, feed_dict={a:[[1,1],[1,1]]}))\n",
    "    \n",
    "test04()"
   ]
  },
  {
   "cell_type": "code",
   "execution_count": 8,
   "metadata": {},
   "outputs": [
    {
     "name": "stdout",
     "output_type": "stream",
     "text": [
      "(1, 3, 4)\n",
      "(1, 3, 8)\n",
      "[[2 2 2 2 4 4 4 4 3 3 2 2 5 5 5 5 0 0 0 0 0 0 0 0]]\n",
      "[[2 2 2 2 4 4 4 4 3 3 2 2 5 5 5 5 0 0 0 0 0 0 0 0]\n",
      " [2 2 2 2 4 4 4 4 3 3 2 2 5 5 5 5 0 0 0 0 0 0 0 0]]\n"
     ]
    }
   ],
   "source": [
    "# repeat vector along a special demension.\n",
    "def test05():\n",
    "    fw = tf.constant([[[2,2,2,2],[3,3,2,2], [0,0,0,0]]])\n",
    "    bw = tf.constant([[[4,4,4,4], [5,5,5,5], [0,0,0,0]]])\n",
    "    print(fw.shape)\n",
    "    b = tf.concat((fw,bw), axis=2)\n",
    "    print(b.shape)\n",
    "    size = tf.shape(b)[0]\n",
    "    c = tf.reshape(b, [size, -1])\n",
    "    d = tf.tile(c,[2,1])\n",
    "    with tf.Session() as sess:\n",
    "        print(sess.run(c))\n",
    "        print(sess.run(d))\n",
    "    \n",
    "test05()"
   ]
  },
  {
   "cell_type": "code",
   "execution_count": 56,
   "metadata": {},
   "outputs": [
    {
     "name": "stdout",
     "output_type": "stream",
     "text": [
      "[[2 2 2 2 2 2 2 2]\n",
      " [3 3 3 3 3 3 3 3]\n",
      " [4 4 4 4 4 4 4 4]]\n",
      "[[[2 2]\n",
      "  [2 2]\n",
      "  [2 2]\n",
      "  [2 2]]\n",
      "\n",
      " [[3 3]\n",
      "  [3 3]\n",
      "  [3 3]\n",
      "  [3 3]]\n",
      "\n",
      " [[4 4]\n",
      "  [4 4]\n",
      "  [4 4]\n",
      "  [4 4]]]\n"
     ]
    }
   ],
   "source": [
    "def test06():\n",
    "    a = tf.constant([[2,2],[3,3],[4,4]])\n",
    "    b = tf.tile(a,[1,4])\n",
    "    c = tf.reshape(b,[3,4,2])\n",
    "    with tf.Session() as sess:\n",
    "        print(sess.run(b))\n",
    "        print(sess.run(c))\n",
    "        \n",
    "    \n",
    "test06()"
   ]
  },
  {
   "cell_type": "code",
   "execution_count": 2,
   "metadata": {},
   "outputs": [
    {
     "name": "stdout",
     "output_type": "stream",
     "text": [
      "Tensor(\"ExpandDims:0\", shape=(3, 1, 2), dtype=int32)\n",
      "[[[2 2]]\n",
      "\n",
      " [[3 3]]\n",
      "\n",
      " [[4 4]]]\n",
      "[[[2 2]\n",
      "  [2 2]\n",
      "  [2 2]\n",
      "  [2 2]]\n",
      "\n",
      " [[3 3]\n",
      "  [3 3]\n",
      "  [3 3]\n",
      "  [3 3]]\n",
      "\n",
      " [[4 4]\n",
      "  [4 4]\n",
      "  [4 4]\n",
      "  [4 4]]]\n"
     ]
    }
   ],
   "source": [
    "def test061():\n",
    "    a = tf.constant([[2,2],[3,3],[4,4]])\n",
    "    b = tf.expand_dims(a,axis=1)\n",
    "    print(b)\n",
    "    c = tf.tile(b,[1,4,1])\n",
    "    with tf.Session() as sess:\n",
    "        print(sess.run(b))\n",
    "        print(sess.run(c))\n",
    "        \n",
    "    \n",
    "test061()"
   ]
  },
  {
   "cell_type": "code",
   "execution_count": 64,
   "metadata": {},
   "outputs": [
    {
     "name": "stdout",
     "output_type": "stream",
     "text": [
      "(3, 6)\n",
      "[[1 1 1 2 2 2]\n",
      " [3 3 3 4 4 4]]\n"
     ]
    }
   ],
   "source": [
    "# slice -1\n",
    "def test07():\n",
    "    a = tf.constant([[1, 1, 1, 2, 2, 2],\n",
    "             [3, 3, 3, 4, 4, 4],\n",
    "             [5, 5, 5, 6, 6, 6]])\n",
    "    print(a.shape)\n",
    "    b = tf.slice(a, [0, 0], [2, -1])\n",
    "    with tf.Session() as sess:\n",
    "        print(sess.run(b))\n",
    "\n",
    "test07()"
   ]
  },
  {
   "cell_type": "code",
   "execution_count": 25,
   "metadata": {},
   "outputs": [
    {
     "name": "stdout",
     "output_type": "stream",
     "text": [
      "(2, 2)\n",
      "(2, 2, 1)\n",
      "(2, 2, 3)\n",
      "(2, 2, 3)\n",
      "[[[2 2 2]\n",
      "  [3 3 3]]\n",
      "\n",
      " [[4 4 4]\n",
      "  [5 5 5]]]\n",
      "(2, 2, 3)\n",
      "[[[ 2  2  2]\n",
      "  [ 6  6  6]]\n",
      "\n",
      " [[12 12 12]\n",
      "  [20 20 20]]]\n",
      "[[ 8  8  8]\n",
      " [32 32 32]]\n"
     ]
    }
   ],
   "source": [
    "# attention\n",
    "def test08():\n",
    "    a = tf.constant([[2,3],[4,5]])\n",
    "    b = tf.constant([[[1,1,1],[2,2,2]],[[3,3,3],[4,4,4]]])\n",
    "    print(a.shape)\n",
    "    d = tf.expand_dims(a, 2)\n",
    "    print(d.shape)\n",
    "    e = tf.tile(d,[1,1,3])\n",
    "    print(e.shape)\n",
    "    print(b.shape)\n",
    "#     c = tf.multiply(b, e)\n",
    "    c = b*e\n",
    "    f = tf.reduce_sum(c, axis=1)\n",
    "    with tf.Session() as sess:\n",
    "        print(sess.run(e))\n",
    "        print(sess.run(c).shape)\n",
    "        print(sess.run(c))\n",
    "        print(sess.run(f))\n",
    "        \n",
    "test08()"
   ]
  },
  {
   "cell_type": "code",
   "execution_count": 4,
   "metadata": {},
   "outputs": [
    {
     "name": "stdout",
     "output_type": "stream",
     "text": [
      "[2 4]\n"
     ]
    }
   ],
   "source": [
    "def mask():\n",
    "    a = tf.constant([[2,3],[4,5]])\n",
    "    m = tf.cast(tf.constant([[1,0], [1,0]]), tf.bool)\n",
    "    a_m = tf.boolean_mask(a, m)\n",
    "    with tf.Session() as sess: \n",
    "        print(sess.run(a_m))\n",
    "\n",
    "mask()"
   ]
  },
  {
   "cell_type": "code",
   "execution_count": 15,
   "metadata": {},
   "outputs": [
    {
     "name": "stdout",
     "output_type": "stream",
     "text": [
      "(2, 6)\n"
     ]
    }
   ],
   "source": [
    "def shape():\n",
    "    a = tf.zeros([2,2,3],tf.float32)\n",
    "#     c = tf.get_variable('c', [2, 4], tf.float32, tf.zeros_initializer())\n",
    "    b = tf.reshape(a, [tf.shape(a)[0], -1])\n",
    "    with tf.Session() as sess:\n",
    "        print(sess.run(b).shape)\n",
    "        \n",
    "shape()"
   ]
  },
  {
   "cell_type": "code",
   "execution_count": 8,
   "metadata": {},
   "outputs": [
    {
     "name": "stdout",
     "output_type": "stream",
     "text": [
      "[[ 0.  0.  0.  0.]\n",
      " [ 0.  0.  0.  0.]]\n"
     ]
    }
   ],
   "source": [
    "def scope():\n",
    "    with tf.variable_scope('qa', initializer=tf.zeros_initializer(), reuse=True):\n",
    "        #tf.get_variable_scope().reuse_variables()\n",
    "        #tf.get_variable_scope().reuse == True\n",
    "        a = tf.get_variable('a', [2,4], tf.float32)\n",
    "        \n",
    "        with tf.Session() as sess:\n",
    "            sess.run(tf.global_variables_initializer())\n",
    "            print(sess.run(a))\n",
    "            \n",
    "scope()"
   ]
  },
  {
   "cell_type": "code",
   "execution_count": 21,
   "metadata": {},
   "outputs": [
    {
     "name": "stdout",
     "output_type": "stream",
     "text": [
      "{'i': 0, 'will': 1}\n"
     ]
    }
   ],
   "source": [
    "def test09():\n",
    "    a = ['i', 'will']\n",
    "    v = dict([(x,y) for (y,x) in enumerate(a)])\n",
    "    print(v)\n",
    "    \n",
    "test09()"
   ]
  },
  {
   "cell_type": "code",
   "execution_count": 27,
   "metadata": {},
   "outputs": [
    {
     "name": "stdout",
     "output_type": "stream",
     "text": [
      "yes\n",
      "[1 3 2 5]\n"
     ]
    }
   ],
   "source": [
    "def test10():\n",
    "    a = [x for x in xrange(10)]\n",
    "    a = np.array(a)\n",
    "    if isinstance(a, np.ndarray):\n",
    "        print('yes')\n",
    "    else:\n",
    "        print('no')\n",
    "    b = [1, 3, 2,5]\n",
    "    print(a[b])\n",
    "    \n",
    "test10()"
   ]
  },
  {
   "cell_type": "code",
   "execution_count": 25,
   "metadata": {},
   "outputs": [
    {
     "name": "stdout",
     "output_type": "stream",
     "text": [
      "(2, 2, 3)\n",
      "[[[1 1]\n",
      "  [2 2]]\n",
      "\n",
      " [[3 3]\n",
      "  [4 4]]]\n",
      "(2, 2, 2)\n"
     ]
    }
   ],
   "source": [
    "def gather():\n",
    "    a = tf.constant([[[1,1,1],[2,2,2]],[[3,3,3],[4,4,4]]])\n",
    "    print(a.shape)\n",
    "    #e = tf.slice(a,[0,0,0],[2,3,3])\n",
    "    b = tf.constant([0,1])\n",
    "    c = tf.gather(a, [0,1],axis=2)\n",
    "#     f = tf.Variable(tf.ones([1]), dtype=tf.float32)\n",
    "    with tf.Session() as sess:\n",
    "        sess.run(tf.global_variables_initializer())\n",
    "        print(sess.run(c))\n",
    "        print(sess.run(c).shape)\n",
    "        \n",
    "gather()"
   ]
  },
  {
   "cell_type": "code",
   "execution_count": 4,
   "metadata": {},
   "outputs": [
    {
     "name": "stdout",
     "output_type": "stream",
     "text": [
      "[ 2.]\n"
     ]
    }
   ],
   "source": [
    "def evaltf():\n",
    "    \n",
    "    with tf.Session() as sess:\n",
    "        x = tf.Variable(tf.ones([1]),dtype=tf.float32)\n",
    "        sess.run(tf.global_variables_initializer())\n",
    "        y = tf.multiply(x, x)\n",
    "        z = 2 * tf.convert_to_tensor(y.eval())\n",
    "        op = tf.train.AdamOptimizer()\n",
    "#         grad = tf.gradients(z)\n",
    "        grad = op.compute_gradients(z)\n",
    "        sess.run(tf.global_variables_initializer())\n",
    "        print(sess.run(z))\n",
    "        \n",
    "evaltf()"
   ]
  },
  {
   "cell_type": "code",
   "execution_count": 12,
   "metadata": {},
   "outputs": [
    {
     "name": "stdout",
     "output_type": "stream",
     "text": [
      "(2, 2, 3)\n",
      "[[[2 2 2]\n",
      "  [1 1 1]]\n",
      "\n",
      " [[4 4 4]\n",
      "  [3 3 3]]]\n"
     ]
    }
   ],
   "source": [
    "def reverse():\n",
    "    a = tf.constant([[[1,1,1],[2,2,2]],[[3,3,3],[4,4,4]]])\n",
    "    print(a.shape)\n",
    "    b=tf.reverse(a,axis=[1])\n",
    "    with tf.Session() as sess:\n",
    "        print(sess.run(b))\n",
    "        \n",
    "reverse()"
   ]
  },
  {
   "cell_type": "code",
   "execution_count": 21,
   "metadata": {
    "collapsed": true
   },
   "outputs": [],
   "source": [
    "def identity_initializer():\n",
    "    def _initializer(shape, dtype=tf.float32):\n",
    "        if len(shape) == 1:\n",
    "            return tf.constant_op.constant(0., dtype=dtype, shape=shape)\n",
    "        elif len(shape) == 2 and shape[0] == shape[1]:\n",
    "            return tf.constant_op.constant(np.identity(shape[0], dtype))\n",
    "        elif len(shape) == 4 and shape[2] == shape[3]:\n",
    "            array = np.zeros(shape, dtype=float)\n",
    "            cx, cy = shape[0]/2, shape[1]/2\n",
    "            for i in range(shape[2]):\n",
    "                array[cx, cy, i, i] = 1\n",
    "            return tf.constant_op.constant(array, dtype=dtype)\n",
    "        else:\n",
    "            raise\n",
    "    return _initializer\n",
    "def identity():\n",
    "#     a = tf.get_variable('a', [2,3], tf.float32, tf.constant(tf.eye(2, num_columns=3)))\n",
    "    a = tf.get_variable('a', [2,2], tf.float32,tf.constant_initializer(np.eye))\n",
    "#     a = tf.Variable(tf.eye(2, num_columns=3),tf.float32)\n",
    "    with tf.Session() as sess:\n",
    "        sess.run(tf.global_variables_initializer())\n",
    "        print(sess.run(a))\n",
    "# identity()"
   ]
  },
  {
   "cell_type": "code",
   "execution_count": 3,
   "metadata": {},
   "outputs": [
    {
     "name": "stdout",
     "output_type": "stream",
     "text": [
      "[[ 1.  0.  0.  0.]\n",
      " [ 0.  1.  0.  0.]\n",
      " [ 0.  0.  1.  0.]\n",
      " [ 0.  0.  0.  1.]]\n"
     ]
    }
   ],
   "source": [
    "from __future__ import absolute_import\n",
    "from __future__ import division\n",
    "from __future__ import print_function\n",
    "\n",
    "import math\n",
    "\n",
    "from tensorflow.python.framework import constant_op\n",
    "from tensorflow.python.framework import dtypes\n",
    "from tensorflow.python.ops import array_ops\n",
    "from tensorflow.python.ops import linalg_ops\n",
    "from tensorflow.python.ops.init_ops import Initializer\n",
    "\n",
    "class identity_initializer(Initializer):\n",
    "  \"\"\"Initializer that generates tensors initialized to 0.\"\"\"\n",
    "\n",
    "  def __init__(self, dtype=dtypes.float32):\n",
    "    self.dtype = dtypes.as_dtype(dtype)\n",
    "\n",
    "  def __call__(self, shape, dtype=None, partition_info=None):\n",
    "    if dtype is None:\n",
    "      dtype = self.dtype\n",
    "#     return array_ops.zeros(shape, dtype)\n",
    "    if len(shape) > 1:\n",
    "        return tf.eye(shape[0], shape[1], dtype=dtype)\n",
    "    else:\n",
    "        return tf.eye(shape[0], dtype=dtype)\n",
    "\n",
    "  def get_config(self):\n",
    "    return {\"dtype\": self.dtype.name}\n",
    "\n",
    "def identity():\n",
    "    tf.reset_default_graph()\n",
    "#     a = tf.get_variable('a', [2,3], tf.float32, tf.constant(tf.eye(2, num_columns=3)))\n",
    "    a = tf.get_variable('a', [4], tf.float32,identity_initializer())\n",
    "#     a = tf.Variable(tf.eye(2, num_columns=3),tf.float32)\n",
    "    with tf.Session() as sess:\n",
    "        sess.run(tf.global_variables_initializer())\n",
    "        print(sess.run(a))\n",
    "identity()"
   ]
  },
  {
   "cell_type": "code",
   "execution_count": 28,
   "metadata": {},
   "outputs": [
    {
     "name": "stdout",
     "output_type": "stream",
     "text": [
      "[[[ 1.  0.  0.]\n",
      "  [ 0.  1.  0.]]\n",
      "\n",
      " [[ 1.  0.  0.]\n",
      "  [ 0.  1.  0.]]\n",
      "\n",
      " [[ 1.  0.  0.]\n",
      "  [ 0.  1.  0.]]]\n"
     ]
    }
   ],
   "source": [
    "def eye():\n",
    "    a = tf.eye(2, num_columns=3, batch_shape=[3])\n",
    "    with tf.Session() as sess:\n",
    "        print(sess.run(a))\n",
    "eye()"
   ]
  },
  {
   "cell_type": "code",
   "execution_count": 58,
   "metadata": {},
   "outputs": [
    {
     "name": "stdout",
     "output_type": "stream",
     "text": [
      "[[ 0.  0.  0.  0.  0.]\n",
      " [ 0.  0.  0.  0.  0.]\n",
      " [ 0.  0.  0.  0.  0.]\n",
      " [ 0.  0.  0.  0.  0.]]\n"
     ]
    }
   ],
   "source": [
    "def scope():\n",
    "    tf.reset_default_graph()\n",
    "    with tf.variable_scope('wu', initializer=tf.zeros_initializer()) as scope:\n",
    "        a = tf.get_variable('a', [4,5],tf.float32)\n",
    "#     a = tf.Variable(tf.eye(2, num_columns=3),tf.float32)\n",
    "        with tf.Session() as sess:\n",
    "            sess.run(tf.global_variables_initializer())\n",
    "            print(sess.run(a))\n",
    "scope()"
   ]
  },
  {
   "cell_type": "code",
   "execution_count": 34,
   "metadata": {},
   "outputs": [
    {
     "name": "stdout",
     "output_type": "stream",
     "text": [
      "[-1.13249898]\n"
     ]
    }
   ],
   "source": [
    "def scope1():\n",
    "    tf.reset_default_graph()\n",
    "    with tf.variable_scope('foo'):\n",
    "        a= tf.get_variable('a',[1])\n",
    "    with tf.variable_scope('foo', reuse=True):\n",
    "        b=tf.get_variable('a')\n",
    "    with tf.Session() as sess:\n",
    "        sess.run(tf.global_variables_initializer())\n",
    "        print(sess.run(b))\n",
    "scope1()"
   ]
  },
  {
   "cell_type": "code",
   "execution_count": 54,
   "metadata": {},
   "outputs": [
    {
     "name": "stdout",
     "output_type": "stream",
     "text": [
      "test/a:0\n",
      "test/b:0\n"
     ]
    }
   ],
   "source": [
    "def get_v_names():\n",
    "    tf.reset_default_graph()\n",
    "    with tf.variable_scope('test'):\n",
    "        a = tf.Variable(tf.ones([2]),tf.float32, name='a')\n",
    "        b = tf.Variable(tf.zeros([3]), dtype=tf.float32, name='b',trainable=False)\n",
    "    for i in tf.get_collection(tf.GraphKeys.GLOBAL_VARIABLES):#TRAINABLE\n",
    "        print(i.name)   # i.name if you want just a name\n",
    "#     for i in tf.trainable_variables():\n",
    "#         print(i.name)\n",
    "        \n",
    "get_v_names()"
   ]
  },
  {
   "cell_type": "code",
   "execution_count": 67,
   "metadata": {},
   "outputs": [
    {
     "name": "stdout",
     "output_type": "stream",
     "text": [
      "[[ 1.  1.  1.  1.  1.  1.]\n",
      " [ 1.  1.  1.  1.  1.  1.]]\n"
     ]
    }
   ],
   "source": [
    "def shape00():\n",
    "    a = tf.ones([2,2,3], tf.float32)\n",
    "    a_s = tf.shape(a)[0]\n",
    "    b = tf.reshape(a,[a_s, -1])\n",
    "    with tf.Session() as sess:  \n",
    "        print(sess.run(b))\n",
    "    \n",
    "shape00()"
   ]
  }
 ],
 "metadata": {
  "kernelspec": {
   "display_name": "Python 2",
   "language": "python",
   "name": "python2"
  },
  "language_info": {
   "codemirror_mode": {
    "name": "ipython",
    "version": 2
   },
   "file_extension": ".py",
   "mimetype": "text/x-python",
   "name": "python",
   "nbconvert_exporter": "python",
   "pygments_lexer": "ipython2",
   "version": "2.7.12"
  }
 },
 "nbformat": 4,
 "nbformat_minor": 2
}
